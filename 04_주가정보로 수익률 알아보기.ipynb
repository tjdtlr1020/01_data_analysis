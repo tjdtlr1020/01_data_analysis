{
 "cells": [
  {
   "cell_type": "code",
   "execution_count": 1,
   "metadata": {},
   "outputs": [],
   "source": [
    "import pandas as pd\n",
    "import matplotlib.pyplot as plt\n",
    "from pandas_datareader import data\n",
    "import datetime\n",
    "import seaborn as sns"
   ]
  },
  {
   "cell_type": "code",
   "execution_count": 2,
   "metadata": {},
   "outputs": [],
   "source": [
    "# 그래프 설정\n",
    "plt.rcParams['font.family'] = 'Malgun Gothic'\n",
    "# plt.rcParams['font.family'] = 'AppleGothic'\n",
    "plt.rcParams['font.size'] = 16\n",
    "plt.rcParams['figure.figsize'] = 20, 10\n",
    "plt.rcParams['axes.unicode_minus'] = False"
   ]
  },
  {
   "cell_type": "code",
   "execution_count": 3,
   "metadata": {},
   "outputs": [],
   "source": [
    "# 시작날짜\n",
    "start = datetime.datetime(2010, 1, 1)\n",
    "# 종료날짜\n",
    "end = datetime.datetime(2020, 12, 31)"
   ]
  },
  {
   "cell_type": "code",
   "execution_count": 4,
   "metadata": {
    "scrolled": false
   },
   "outputs": [
    {
     "data": {
      "text/html": [
       "<div>\n",
       "<style scoped>\n",
       "    .dataframe tbody tr th:only-of-type {\n",
       "        vertical-align: middle;\n",
       "    }\n",
       "\n",
       "    .dataframe tbody tr th {\n",
       "        vertical-align: top;\n",
       "    }\n",
       "\n",
       "    .dataframe thead th {\n",
       "        text-align: right;\n",
       "    }\n",
       "</style>\n",
       "<table border=\"1\" class=\"dataframe\">\n",
       "  <thead>\n",
       "    <tr style=\"text-align: right;\">\n",
       "      <th></th>\n",
       "      <th>High</th>\n",
       "      <th>Low</th>\n",
       "      <th>Open</th>\n",
       "      <th>Close</th>\n",
       "      <th>Volume</th>\n",
       "      <th>Adj Close</th>\n",
       "    </tr>\n",
       "    <tr>\n",
       "      <th>Date</th>\n",
       "      <th></th>\n",
       "      <th></th>\n",
       "      <th></th>\n",
       "      <th></th>\n",
       "      <th></th>\n",
       "      <th></th>\n",
       "    </tr>\n",
       "  </thead>\n",
       "  <tbody>\n",
       "    <tr>\n",
       "      <th>2010-01-04</th>\n",
       "      <td>51900.0</td>\n",
       "      <td>50600.0</td>\n",
       "      <td>51500.0</td>\n",
       "      <td>50800.0</td>\n",
       "      <td>7615.0</td>\n",
       "      <td>40860.582031</td>\n",
       "    </tr>\n",
       "    <tr>\n",
       "      <th>2010-01-05</th>\n",
       "      <td>50800.0</td>\n",
       "      <td>48800.0</td>\n",
       "      <td>50400.0</td>\n",
       "      <td>48800.0</td>\n",
       "      <td>23811.0</td>\n",
       "      <td>39251.894531</td>\n",
       "    </tr>\n",
       "    <tr>\n",
       "      <th>2010-01-06</th>\n",
       "      <td>49950.0</td>\n",
       "      <td>48650.0</td>\n",
       "      <td>48800.0</td>\n",
       "      <td>49900.0</td>\n",
       "      <td>24161.0</td>\n",
       "      <td>40136.671875</td>\n",
       "    </tr>\n",
       "    <tr>\n",
       "      <th>2010-01-07</th>\n",
       "      <td>49900.0</td>\n",
       "      <td>49200.0</td>\n",
       "      <td>49900.0</td>\n",
       "      <td>49850.0</td>\n",
       "      <td>11618.0</td>\n",
       "      <td>40096.457031</td>\n",
       "    </tr>\n",
       "    <tr>\n",
       "      <th>2010-01-08</th>\n",
       "      <td>49900.0</td>\n",
       "      <td>48200.0</td>\n",
       "      <td>49800.0</td>\n",
       "      <td>48850.0</td>\n",
       "      <td>109210.0</td>\n",
       "      <td>39292.117188</td>\n",
       "    </tr>\n",
       "    <tr>\n",
       "      <th>...</th>\n",
       "      <td>...</td>\n",
       "      <td>...</td>\n",
       "      <td>...</td>\n",
       "      <td>...</td>\n",
       "      <td>...</td>\n",
       "      <td>...</td>\n",
       "    </tr>\n",
       "    <tr>\n",
       "      <th>2020-12-23</th>\n",
       "      <td>55700.0</td>\n",
       "      <td>55100.0</td>\n",
       "      <td>55100.0</td>\n",
       "      <td>55400.0</td>\n",
       "      <td>18721.0</td>\n",
       "      <td>53831.152344</td>\n",
       "    </tr>\n",
       "    <tr>\n",
       "      <th>2020-12-24</th>\n",
       "      <td>56000.0</td>\n",
       "      <td>55200.0</td>\n",
       "      <td>55200.0</td>\n",
       "      <td>56000.0</td>\n",
       "      <td>24399.0</td>\n",
       "      <td>54414.160156</td>\n",
       "    </tr>\n",
       "    <tr>\n",
       "      <th>2020-12-28</th>\n",
       "      <td>57400.0</td>\n",
       "      <td>56000.0</td>\n",
       "      <td>56200.0</td>\n",
       "      <td>56500.0</td>\n",
       "      <td>51048.0</td>\n",
       "      <td>54900.000000</td>\n",
       "    </tr>\n",
       "    <tr>\n",
       "      <th>2020-12-29</th>\n",
       "      <td>59200.0</td>\n",
       "      <td>55700.0</td>\n",
       "      <td>55900.0</td>\n",
       "      <td>57600.0</td>\n",
       "      <td>108927.0</td>\n",
       "      <td>57600.000000</td>\n",
       "    </tr>\n",
       "    <tr>\n",
       "      <th>2020-12-30</th>\n",
       "      <td>57900.0</td>\n",
       "      <td>57100.0</td>\n",
       "      <td>57600.0</td>\n",
       "      <td>57100.0</td>\n",
       "      <td>31914.0</td>\n",
       "      <td>57100.000000</td>\n",
       "    </tr>\n",
       "  </tbody>\n",
       "</table>\n",
       "<p>2708 rows × 6 columns</p>\n",
       "</div>"
      ],
      "text/plain": [
       "               High      Low     Open    Close    Volume     Adj Close\n",
       "Date                                                                  \n",
       "2010-01-04  51900.0  50600.0  51500.0  50800.0    7615.0  40860.582031\n",
       "2010-01-05  50800.0  48800.0  50400.0  48800.0   23811.0  39251.894531\n",
       "2010-01-06  49950.0  48650.0  48800.0  49900.0   24161.0  40136.671875\n",
       "2010-01-07  49900.0  49200.0  49900.0  49850.0   11618.0  40096.457031\n",
       "2010-01-08  49900.0  48200.0  49800.0  48850.0  109210.0  39292.117188\n",
       "...             ...      ...      ...      ...       ...           ...\n",
       "2020-12-23  55700.0  55100.0  55100.0  55400.0   18721.0  53831.152344\n",
       "2020-12-24  56000.0  55200.0  55200.0  56000.0   24399.0  54414.160156\n",
       "2020-12-28  57400.0  56000.0  56200.0  56500.0   51048.0  54900.000000\n",
       "2020-12-29  59200.0  55700.0  55900.0  57600.0  108927.0  57600.000000\n",
       "2020-12-30  57900.0  57100.0  57600.0  57100.0   31914.0  57100.000000\n",
       "\n",
       "[2708 rows x 6 columns]"
      ]
     },
     "execution_count": 4,
     "metadata": {},
     "output_type": "execute_result"
    }
   ],
   "source": [
    "# 삼성전자 주식 데이터를 가져온다.\n",
    "slb = data.DataReader('005180.KS', 'yahoo', start, end)\n",
    "slb"
   ]
  },
  {
   "cell_type": "code",
   "execution_count": 5,
   "metadata": {},
   "outputs": [],
   "source": [
    "# 파일로 저장한다.\n",
    "# slb.to_csv('ss1_stock.csv')"
   ]
  },
  {
   "cell_type": "code",
   "execution_count": null,
   "metadata": {},
   "outputs": [],
   "source": []
  },
  {
   "cell_type": "code",
   "execution_count": null,
   "metadata": {},
   "outputs": [],
   "source": []
  },
  {
   "cell_type": "code",
   "execution_count": 6,
   "metadata": {},
   "outputs": [
    {
     "data": {
      "text/html": [
       "<div>\n",
       "<style scoped>\n",
       "    .dataframe tbody tr th:only-of-type {\n",
       "        vertical-align: middle;\n",
       "    }\n",
       "\n",
       "    .dataframe tbody tr th {\n",
       "        vertical-align: top;\n",
       "    }\n",
       "\n",
       "    .dataframe thead th {\n",
       "        text-align: right;\n",
       "    }\n",
       "</style>\n",
       "<table border=\"1\" class=\"dataframe\">\n",
       "  <thead>\n",
       "    <tr style=\"text-align: right;\">\n",
       "      <th></th>\n",
       "      <th>High</th>\n",
       "      <th>Low</th>\n",
       "      <th>Open</th>\n",
       "      <th>Close</th>\n",
       "      <th>Volume</th>\n",
       "      <th>Adj Close</th>\n",
       "    </tr>\n",
       "    <tr>\n",
       "      <th>Date</th>\n",
       "      <th></th>\n",
       "      <th></th>\n",
       "      <th></th>\n",
       "      <th></th>\n",
       "      <th></th>\n",
       "      <th></th>\n",
       "    </tr>\n",
       "  </thead>\n",
       "  <tbody>\n",
       "    <tr>\n",
       "      <th>2010-01-04</th>\n",
       "      <td>51900.0</td>\n",
       "      <td>50600.0</td>\n",
       "      <td>51500.0</td>\n",
       "      <td>50800.0</td>\n",
       "      <td>7615.0</td>\n",
       "      <td>40860.582031</td>\n",
       "    </tr>\n",
       "    <tr>\n",
       "      <th>2010-01-05</th>\n",
       "      <td>50800.0</td>\n",
       "      <td>48800.0</td>\n",
       "      <td>50400.0</td>\n",
       "      <td>48800.0</td>\n",
       "      <td>23811.0</td>\n",
       "      <td>39251.894531</td>\n",
       "    </tr>\n",
       "    <tr>\n",
       "      <th>2010-01-06</th>\n",
       "      <td>49950.0</td>\n",
       "      <td>48650.0</td>\n",
       "      <td>48800.0</td>\n",
       "      <td>49900.0</td>\n",
       "      <td>24161.0</td>\n",
       "      <td>40136.671875</td>\n",
       "    </tr>\n",
       "    <tr>\n",
       "      <th>2010-01-07</th>\n",
       "      <td>49900.0</td>\n",
       "      <td>49200.0</td>\n",
       "      <td>49900.0</td>\n",
       "      <td>49850.0</td>\n",
       "      <td>11618.0</td>\n",
       "      <td>40096.457031</td>\n",
       "    </tr>\n",
       "    <tr>\n",
       "      <th>2010-01-08</th>\n",
       "      <td>49900.0</td>\n",
       "      <td>48200.0</td>\n",
       "      <td>49800.0</td>\n",
       "      <td>48850.0</td>\n",
       "      <td>109210.0</td>\n",
       "      <td>39292.117188</td>\n",
       "    </tr>\n",
       "    <tr>\n",
       "      <th>...</th>\n",
       "      <td>...</td>\n",
       "      <td>...</td>\n",
       "      <td>...</td>\n",
       "      <td>...</td>\n",
       "      <td>...</td>\n",
       "      <td>...</td>\n",
       "    </tr>\n",
       "    <tr>\n",
       "      <th>2020-12-23</th>\n",
       "      <td>55700.0</td>\n",
       "      <td>55100.0</td>\n",
       "      <td>55100.0</td>\n",
       "      <td>55400.0</td>\n",
       "      <td>18721.0</td>\n",
       "      <td>53831.152344</td>\n",
       "    </tr>\n",
       "    <tr>\n",
       "      <th>2020-12-24</th>\n",
       "      <td>56000.0</td>\n",
       "      <td>55200.0</td>\n",
       "      <td>55200.0</td>\n",
       "      <td>56000.0</td>\n",
       "      <td>24399.0</td>\n",
       "      <td>54414.160156</td>\n",
       "    </tr>\n",
       "    <tr>\n",
       "      <th>2020-12-28</th>\n",
       "      <td>57400.0</td>\n",
       "      <td>56000.0</td>\n",
       "      <td>56200.0</td>\n",
       "      <td>56500.0</td>\n",
       "      <td>51048.0</td>\n",
       "      <td>54900.000000</td>\n",
       "    </tr>\n",
       "    <tr>\n",
       "      <th>2020-12-29</th>\n",
       "      <td>59200.0</td>\n",
       "      <td>55700.0</td>\n",
       "      <td>55900.0</td>\n",
       "      <td>57600.0</td>\n",
       "      <td>108927.0</td>\n",
       "      <td>57600.000000</td>\n",
       "    </tr>\n",
       "    <tr>\n",
       "      <th>2020-12-30</th>\n",
       "      <td>57900.0</td>\n",
       "      <td>57100.0</td>\n",
       "      <td>57600.0</td>\n",
       "      <td>57100.0</td>\n",
       "      <td>31914.0</td>\n",
       "      <td>57100.000000</td>\n",
       "    </tr>\n",
       "  </tbody>\n",
       "</table>\n",
       "<p>2708 rows × 6 columns</p>\n",
       "</div>"
      ],
      "text/plain": [
       "               High      Low     Open    Close    Volume     Adj Close\n",
       "Date                                                                  \n",
       "2010-01-04  51900.0  50600.0  51500.0  50800.0    7615.0  40860.582031\n",
       "2010-01-05  50800.0  48800.0  50400.0  48800.0   23811.0  39251.894531\n",
       "2010-01-06  49950.0  48650.0  48800.0  49900.0   24161.0  40136.671875\n",
       "2010-01-07  49900.0  49200.0  49900.0  49850.0   11618.0  40096.457031\n",
       "2010-01-08  49900.0  48200.0  49800.0  48850.0  109210.0  39292.117188\n",
       "...             ...      ...      ...      ...       ...           ...\n",
       "2020-12-23  55700.0  55100.0  55100.0  55400.0   18721.0  53831.152344\n",
       "2020-12-24  56000.0  55200.0  55200.0  56000.0   24399.0  54414.160156\n",
       "2020-12-28  57400.0  56000.0  56200.0  56500.0   51048.0  54900.000000\n",
       "2020-12-29  59200.0  55700.0  55900.0  57600.0  108927.0  57600.000000\n",
       "2020-12-30  57900.0  57100.0  57600.0  57100.0   31914.0  57100.000000\n",
       "\n",
       "[2708 rows x 6 columns]"
      ]
     },
     "execution_count": 6,
     "metadata": {},
     "output_type": "execute_result"
    }
   ],
   "source": [
    "cel = pd.read_csv('ss1_stock.csv', index_col='Date')\n",
    "cel"
   ]
  },
  {
   "cell_type": "code",
   "execution_count": 7,
   "metadata": {},
   "outputs": [
    {
     "data": {
      "text/plain": [
       "Index(['2010-01-04', '2010-01-05', '2010-01-06', '2010-01-07', '2010-01-08',\n",
       "       '2010-01-11', '2010-01-12', '2010-01-13', '2010-01-14', '2010-01-15',\n",
       "       ...\n",
       "       '2020-12-16', '2020-12-17', '2020-12-18', '2020-12-21', '2020-12-22',\n",
       "       '2020-12-23', '2020-12-24', '2020-12-28', '2020-12-29', '2020-12-30'],\n",
       "      dtype='object', name='Date', length=2708)"
      ]
     },
     "execution_count": 7,
     "metadata": {},
     "output_type": "execute_result"
    }
   ],
   "source": [
    "# 인덱스의 데이터 타입을 확인한다.\n",
    "cel.index"
   ]
  },
  {
   "cell_type": "code",
   "execution_count": 8,
   "metadata": {},
   "outputs": [
    {
     "name": "stdout",
     "output_type": "stream",
     "text": [
      "<class 'pandas.core.frame.DataFrame'>\n",
      "Index: 2708 entries, 2010-01-04 to 2020-12-30\n",
      "Data columns (total 6 columns):\n",
      " #   Column     Non-Null Count  Dtype  \n",
      "---  ------     --------------  -----  \n",
      " 0   High       2708 non-null   float64\n",
      " 1   Low        2708 non-null   float64\n",
      " 2   Open       2708 non-null   float64\n",
      " 3   Close      2708 non-null   float64\n",
      " 4   Volume     2708 non-null   float64\n",
      " 5   Adj Close  2708 non-null   float64\n",
      "dtypes: float64(6)\n",
      "memory usage: 148.1+ KB\n"
     ]
    }
   ],
   "source": [
    "# 컬럼들의 데이터 타입을 확인한다.\n",
    "cel.info()"
   ]
  },
  {
   "cell_type": "code",
   "execution_count": 9,
   "metadata": {},
   "outputs": [
    {
     "data": {
      "text/plain": [
       "DatetimeIndex(['2010-01-04', '2010-01-05', '2010-01-06', '2010-01-07',\n",
       "               '2010-01-08', '2010-01-11', '2010-01-12', '2010-01-13',\n",
       "               '2010-01-14', '2010-01-15',\n",
       "               ...\n",
       "               '2020-12-16', '2020-12-17', '2020-12-18', '2020-12-21',\n",
       "               '2020-12-22', '2020-12-23', '2020-12-24', '2020-12-28',\n",
       "               '2020-12-29', '2020-12-30'],\n",
       "              dtype='datetime64[ns]', name='Date', length=2708, freq=None)"
      ]
     },
     "execution_count": 9,
     "metadata": {},
     "output_type": "execute_result"
    }
   ],
   "source": [
    "# 인덱스를 날짜 타입으로 변환하여 다시 설정한다.\n",
    "cel.index = pd.to_datetime(cel.index, format='%Y-%m-%d')\n",
    "cel.index"
   ]
  },
  {
   "cell_type": "code",
   "execution_count": null,
   "metadata": {},
   "outputs": [],
   "source": []
  },
  {
   "cell_type": "code",
   "execution_count": 10,
   "metadata": {},
   "outputs": [],
   "source": [
    "# 문자열 형태로 되어 있는 날짜를 날짜 형태로 변환하는 람다식\n",
    "parser = lambda x : pd.datetime.strptime(x, '%Y-%m-%d')"
   ]
  },
  {
   "cell_type": "code",
   "execution_count": 11,
   "metadata": {},
   "outputs": [
    {
     "name": "stderr",
     "output_type": "stream",
     "text": [
      "C:\\Users\\master11\\anaconda3\\lib\\site-packages\\ipykernel_launcher.py:2: FutureWarning: The pandas.datetime class is deprecated and will be removed from pandas in a future version. Import from datetime module instead.\n",
      "  \n"
     ]
    },
    {
     "data": {
      "text/plain": [
       "DatetimeIndex(['2010-01-04', '2010-01-05', '2010-01-06', '2010-01-07',\n",
       "               '2010-01-08', '2010-01-11', '2010-01-12', '2010-01-13',\n",
       "               '2010-01-14', '2010-01-15',\n",
       "               ...\n",
       "               '2020-12-16', '2020-12-17', '2020-12-18', '2020-12-21',\n",
       "               '2020-12-22', '2020-12-23', '2020-12-24', '2020-12-28',\n",
       "               '2020-12-29', '2020-12-30'],\n",
       "              dtype='datetime64[ns]', name='Date', length=2708, freq=None)"
      ]
     },
     "execution_count": 11,
     "metadata": {},
     "output_type": "execute_result"
    }
   ],
   "source": [
    "cel2 = pd.read_csv('ss_stock.csv', index_col='Date', date_parser=parser)\n",
    "cel2.index"
   ]
  },
  {
   "cell_type": "markdown",
   "metadata": {},
   "source": [
    "### 주식 데이터 확인"
   ]
  },
  {
   "cell_type": "code",
   "execution_count": 12,
   "metadata": {},
   "outputs": [
    {
     "name": "stdout",
     "output_type": "stream",
     "text": [
      "<class 'pandas.core.frame.DataFrame'>\n",
      "DatetimeIndex: 2708 entries, 2010-01-04 to 2020-12-30\n",
      "Data columns (total 6 columns):\n",
      " #   Column     Non-Null Count  Dtype  \n",
      "---  ------     --------------  -----  \n",
      " 0   High       2708 non-null   float64\n",
      " 1   Low        2708 non-null   float64\n",
      " 2   Open       2708 non-null   float64\n",
      " 3   Close      2708 non-null   float64\n",
      " 4   Volume     2708 non-null   float64\n",
      " 5   Adj Close  2708 non-null   float64\n",
      "dtypes: float64(6)\n",
      "memory usage: 148.1 KB\n"
     ]
    }
   ],
   "source": [
    "# 데이터 프레임의 요약정보 확인\n",
    "cel.info()"
   ]
  },
  {
   "cell_type": "code",
   "execution_count": 13,
   "metadata": {},
   "outputs": [
    {
     "data": {
      "text/plain": [
       "High         0\n",
       "Low          0\n",
       "Open         0\n",
       "Close        0\n",
       "Volume       0\n",
       "Adj Close    0\n",
       "dtype: int64"
      ]
     },
     "execution_count": 13,
     "metadata": {},
     "output_type": "execute_result"
    }
   ],
   "source": [
    "# 결측치 확인\n",
    "cel.isna().sum()"
   ]
  },
  {
   "cell_type": "markdown",
   "metadata": {},
   "source": [
    "### 일별 수익률 계산"
   ]
  },
  {
   "cell_type": "code",
   "execution_count": 14,
   "metadata": {},
   "outputs": [
    {
     "data": {
      "text/plain": [
       "Date\n",
       "2010-01-04         NaN\n",
       "2010-01-05   -0.039370\n",
       "2010-01-06    0.022541\n",
       "2010-01-07   -0.001002\n",
       "2010-01-08   -0.020060\n",
       "                ...   \n",
       "2020-12-23    0.003623\n",
       "2020-12-24    0.010830\n",
       "2020-12-28    0.008929\n",
       "2020-12-29    0.019469\n",
       "2020-12-30   -0.008681\n",
       "Name: Close, Length: 2708, dtype: float64"
      ]
     },
     "execution_count": 14,
     "metadata": {},
     "output_type": "execute_result"
    }
   ],
   "source": [
    "cel_daily = cel.Close.pct_change()\n",
    "cel_daily"
   ]
  },
  {
   "cell_type": "code",
   "execution_count": 15,
   "metadata": {},
   "outputs": [
    {
     "data": {
      "text/plain": [
       "1313"
      ]
     },
     "execution_count": 15,
     "metadata": {},
     "output_type": "execute_result"
    }
   ],
   "source": [
    "# 수익률이 0 미만인 데이터의 수를 구한다\n",
    "# 주가가 떨어진것(주식 가격이 전날에 비해 - 인 경우)\n",
    "a1 = cel_daily < 0\n",
    "a1.sum()"
   ]
  },
  {
   "cell_type": "markdown",
   "metadata": {},
   "source": [
    "삼성전자 주가는 총 2708일 중 1250일이 하락하였다."
   ]
  },
  {
   "cell_type": "markdown",
   "metadata": {},
   "source": [
    "### 종가 금액만 추출"
   ]
  },
  {
   "cell_type": "code",
   "execution_count": 16,
   "metadata": {},
   "outputs": [
    {
     "data": {
      "text/plain": [
       "Date\n",
       "2010-01-04    50800.0\n",
       "2010-01-05    48800.0\n",
       "2010-01-06    49900.0\n",
       "2010-01-07    49850.0\n",
       "2010-01-08    48850.0\n",
       "               ...   \n",
       "2020-12-23    55400.0\n",
       "2020-12-24    56000.0\n",
       "2020-12-28    56500.0\n",
       "2020-12-29    57600.0\n",
       "2020-12-30    57100.0\n",
       "Name: Close, Length: 2708, dtype: float64"
      ]
     },
     "execution_count": 16,
     "metadata": {},
     "output_type": "execute_result"
    }
   ],
   "source": [
    "cel_close = cel['Close']\n",
    "cel_close"
   ]
  },
  {
   "cell_type": "code",
   "execution_count": 47,
   "metadata": {},
   "outputs": [
    {
     "data": {
      "text/plain": [
       "count      2708.000000\n",
       "mean      71101.421713\n",
       "std       18556.142480\n",
       "min       36000.000000\n",
       "10%       53700.000000\n",
       "50%       66200.000000\n",
       "90%       95630.000000\n",
       "max      138500.000000\n",
       "Name: Close, dtype: float64"
      ]
     },
     "execution_count": 47,
     "metadata": {},
     "output_type": "execute_result"
    }
   ],
   "source": [
    "# 종가 금액의 요약 통계 정보를 확인한다.\n",
    "cel_des = cel_close.describe(percentiles=[0.1, 0.9])\n",
    "cel_des"
   ]
  },
  {
   "cell_type": "code",
   "execution_count": 18,
   "metadata": {},
   "outputs": [
    {
     "data": {
      "text/plain": [
       "<matplotlib.axes._subplots.AxesSubplot at 0x1eb48503748>"
      ]
     },
     "execution_count": 18,
     "metadata": {},
     "output_type": "execute_result"
    },
    {
     "data": {
      "image/png": "[encoded data removed]",
      "text/plain": [
       "<Figure size 1440x720 with 1 Axes>"
      ]
     },
     "metadata": {
      "needs_background": "light"
     },
     "output_type": "display_data"
    }
   ],
   "source": [
    "cel_close.plot.box()"
   ]
  },
  {
   "cell_type": "markdown",
   "metadata": {},
   "source": [
    "### 데이터 시각화"
   ]
  },
  {
   "cell_type": "markdown",
   "metadata": {},
   "source": [
    "#### 종가금액에 대한 그래프 색을 검정색으로 그래프를 그린다\n",
    "- x축은 일자, y축은 금액으로 처리"
   ]
  },
  {
   "cell_type": "code",
   "execution_count": 19,
   "metadata": {},
   "outputs": [
    {
     "data": {
      "image/png": "[encoded data removed]",
      "text/plain": [
       "<Figure size 1440x720 with 1 Axes>"
      ]
     },
     "metadata": {
      "needs_background": "light"
     },
     "output_type": "display_data"
    }
   ],
   "source": [
    "cel_close.plot(color = 'black')\n",
    "plt.show()"
   ]
  },
  {
   "cell_type": "markdown",
   "metadata": {},
   "source": [
    "#### 특정 범위를 벗어나는 그래프의 색을 다르게 표시한다\n",
    "- 하나의 별도 그래프를 그려서 별도의 모양과 색을 처리한다"
   ]
  },
  {
   "cell_type": "code",
   "execution_count": 22,
   "metadata": {},
   "outputs": [
    {
     "data": {
      "text/plain": [
       "count      2708.000000\n",
       "mean      71101.421713\n",
       "std       18556.142480\n",
       "min       36000.000000\n",
       "10%       53700.000000\n",
       "50%       66200.000000\n",
       "90%       95630.000000\n",
       "max      138500.000000\n",
       "Name: Close, dtype: float64"
      ]
     },
     "execution_count": 22,
     "metadata": {},
     "output_type": "execute_result"
    }
   ],
   "source": [
    "cel_des = cel_close.describe(percentiles = [0.1,0.9])\n",
    "cel_des"
   ]
  },
  {
   "cell_type": "code",
   "execution_count": 25,
   "metadata": {},
   "outputs": [],
   "source": [
    "# 10%이하의 값들\n",
    "a1 = cel_close <cel_des.loc['10%']"
   ]
  },
  {
   "cell_type": "code",
   "execution_count": 26,
   "metadata": {},
   "outputs": [],
   "source": [
    "# 90퍼센트 초과값\n",
    "a2 = cel_close > cel_des.loc['90%']"
   ]
  },
  {
   "cell_type": "code",
   "execution_count": 29,
   "metadata": {},
   "outputs": [
    {
     "data": {
      "text/plain": [
       "Date\n",
       "2010-01-04    50800.0\n",
       "2010-01-05    48800.0\n",
       "2010-01-06    49900.0\n",
       "2010-01-07    49850.0\n",
       "2010-01-08    48850.0\n",
       "               ...   \n",
       "2020-04-03    52400.0\n",
       "2020-04-08    53600.0\n",
       "2020-04-13    53100.0\n",
       "2020-04-14    53400.0\n",
       "2020-04-16    53200.0\n",
       "Name: Close, Length: 541, dtype: float64"
      ]
     },
     "execution_count": 29,
     "metadata": {},
     "output_type": "execute_result"
    }
   ],
   "source": [
    "# 상위90%이상과 하위 10%이하의 데이터를 가져온다\n",
    "cel_top_bottom = cel_close[(a1|a2)]\n",
    "cel_top_bottom"
   ]
  },
  {
   "cell_type": "code",
   "execution_count": 35,
   "metadata": {},
   "outputs": [
    {
     "data": {
      "image/png": "[encoded data removed]",
      "text/plain": [
       "<Figure size 1440x720 with 1 Axes>"
      ]
     },
     "metadata": {
      "needs_background": "light"
     },
     "output_type": "display_data"
    }
   ],
   "source": [
    "# 시각화\n",
    "cel_top_bottom.plot(marker = 'o',style='.',color = 'darkgray')\n",
    "plt.show()"
   ]
  },
  {
   "cell_type": "code",
   "execution_count": 55,
   "metadata": {},
   "outputs": [
    {
     "data": {
      "text/plain": [
       "Date\n",
       "2010-01-04     True\n",
       "2010-01-05     True\n",
       "2010-01-06     True\n",
       "2010-01-07     True\n",
       "2010-01-08     True\n",
       "              ...  \n",
       "2020-12-23    False\n",
       "2020-12-24    False\n",
       "2020-12-28    False\n",
       "2020-12-29    False\n",
       "2020-12-30    False\n",
       "Name: Close, Length: 2708, dtype: bool"
      ]
     },
     "execution_count": 55,
     "metadata": {},
     "output_type": "execute_result"
    }
   ],
   "source": [
    "### 그래프 내에 하일라이트 선 그리기\n",
    "a1 = cel_close < cel_des.loc['10%']\n",
    "a2 = cel_close < cel_des.loc['90%']\n",
    "criteria = a1 | a2\n",
    "criteria\n",
    "a1 = cel_close < cel_des.loc['10%']\n",
    "a2 = cel_close > cel_des.loc['90%']\n",
    "a1 = cel_close < cel_des.loc['10%']\n",
    "a2 = cel_close > cel_des.loc['90%']\n",
    "\n",
    "criteria = a1 | a2\n",
    "criteria"
   ]
  },
  {
   "cell_type": "markdown",
   "metadata": {},
   "source": [
    "### 위에서 그렷던 그래프 3가지를 겹처서 그린다"
   ]
  },
  {
   "cell_type": "code",
   "execution_count": 58,
   "metadata": {},
   "outputs": [
    {
     "data": {
      "image/png": "[encoded data removed]",
      "text/plain": [
       "<Figure size 1440x720 with 1 Axes>"
      ]
     },
     "metadata": {
      "needs_background": "light"
     },
     "output_type": "display_data"
    }
   ],
   "source": [
    "# 종가그래프\n",
    "cel_close.plot(color = 'black')\n",
    "# 상위와 하위 지점에 점을찍는다\n",
    "cel_top_bottom.plot(marker = 'o',style=' ',color = 'red')\n",
    "# 10% ,90%위치의 하이라이트 선을 그린다\n",
    "plt.hlines(y = [cel_des.loc['10%'], cel_des.loc['90%']],\n",
    "           xmin = criteria.index[0], xmax = criteria.index[-1],\n",
    "          color='red')\n",
    "plt.show()"
   ]
  },
  {
   "cell_type": "markdown",
   "metadata": {},
   "source": [
    "### 수익률 비교"
   ]
  },
  {
   "cell_type": "code",
   "execution_count": 63,
   "metadata": {},
   "outputs": [
    {
     "data": {
      "text/plain": [
       "Date\n",
       "2010-01-04    50800.0\n",
       "2010-01-05    48800.0\n",
       "2010-01-06    49900.0\n",
       "2010-01-07    49850.0\n",
       "2010-01-08    48850.0\n",
       "Name: Close, dtype: float64"
      ]
     },
     "execution_count": 63,
     "metadata": {},
     "output_type": "execute_result"
    }
   ],
   "source": [
    "# 수익률 비교하기\n",
    "# pct_change : 현재 원소와 직전원소간의 % 변화율 계산\n",
    "cel.Close.head()"
   ]
  },
  {
   "cell_type": "code",
   "execution_count": 67,
   "metadata": {},
   "outputs": [
    {
     "data": {
      "text/plain": [
       "0.03937"
      ]
     },
     "execution_count": 67,
     "metadata": {},
     "output_type": "execute_result"
    }
   ],
   "source": [
    "# 첫번쨰와 두번쨰의차이\n",
    "round((cel.Close[0]-cel.Close[1])/cel.Close[0],6)"
   ]
  },
  {
   "cell_type": "code",
   "execution_count": 69,
   "metadata": {},
   "outputs": [
    {
     "data": {
      "text/plain": [
       "Date\n",
       "2010-01-04         NaN\n",
       "2010-01-05   -0.039370\n",
       "2010-01-06    0.022541\n",
       "2010-01-07   -0.001002\n",
       "2010-01-08   -0.020060\n",
       "                ...   \n",
       "2020-12-23    0.003623\n",
       "2020-12-24    0.010830\n",
       "2020-12-28    0.008929\n",
       "2020-12-29    0.019469\n",
       "2020-12-30   -0.008681\n",
       "Name: Close, Length: 2708, dtype: float64"
      ]
     },
     "execution_count": 69,
     "metadata": {},
     "output_type": "execute_result"
    }
   ],
   "source": [
    "# 수익률 변화 \n",
    "cel.Close.pct_change()"
   ]
  },
  {
   "cell_type": "markdown",
   "metadata": {},
   "source": [
    "### 결측치 처리"
   ]
  },
  {
   "cell_type": "code",
   "execution_count": 70,
   "metadata": {},
   "outputs": [
    {
     "data": {
      "text/plain": [
       "Date\n",
       "2010-01-04         NaN\n",
       "2010-01-05   -0.039370\n",
       "2010-01-06    0.022541\n",
       "2010-01-07   -0.001002\n",
       "2010-01-08   -0.020060\n",
       "                ...   \n",
       "2020-12-23    0.003623\n",
       "2020-12-24    0.010830\n",
       "2020-12-28    0.008929\n",
       "2020-12-29    0.019469\n",
       "2020-12-30   -0.008681\n",
       "Name: Close, Length: 2708, dtype: float64"
      ]
     },
     "execution_count": 70,
     "metadata": {},
     "output_type": "execute_result"
    }
   ],
   "source": [
    "cel_pct_change = cel.Close.pct_change()\n",
    "cel_pct_change"
   ]
  },
  {
   "cell_type": "code",
   "execution_count": 71,
   "metadata": {},
   "outputs": [
    {
     "data": {
      "text/plain": [
       "1"
      ]
     },
     "execution_count": 71,
     "metadata": {},
     "output_type": "execute_result"
    }
   ],
   "source": [
    "# 결측치확인\n",
    "# 첫번째게 결측치가나온다\n",
    "cel_pct_change.isna().sum()"
   ]
  },
  {
   "cell_type": "code",
   "execution_count": 73,
   "metadata": {},
   "outputs": [
    {
     "data": {
      "text/plain": [
       "0"
      ]
     },
     "execution_count": 73,
     "metadata": {},
     "output_type": "execute_result"
    }
   ],
   "source": [
    "# 제거\n",
    "cel_pct_chage = cel_pct_change.dropna()\n",
    "cel_pct_chage.isna().sum()"
   ]
  },
  {
   "cell_type": "markdown",
   "metadata": {},
   "source": [
    "### 수익률에 대한 히스토그램"
   ]
  },
  {
   "cell_type": "code",
   "execution_count": 79,
   "metadata": {},
   "outputs": [
    {
     "data": {
      "image/png": "[encoded data removed]",
      "text/plain": [
       "<Figure size 1440x720 with 1 Axes>"
      ]
     },
     "metadata": {
      "needs_background": "light"
     },
     "output_type": "display_data"
    }
   ],
   "source": [
    "cel_pct_change.hist(bins = 100)\n",
    "plt.show()\n",
    "# 선 -> 변화추이\n",
    "# 산점도 -> 분포\n",
    "# 바차트 -> 양비교\n",
    "# 파이 -> 비율비교\n",
    "# 히스토그램 -> 값들의 개수 비교\n",
    "# 박스플롯 -> 극단치확인\n",
    "# 히트맵 -> 상관관계"
   ]
  },
  {
   "cell_type": "code",
   "execution_count": 75,
   "metadata": {},
   "outputs": [
    {
     "data": {
      "text/plain": [
       "Date\n",
       "2010-01-04         NaN\n",
       "2010-01-05   -0.039370\n",
       "2010-01-06    0.022541\n",
       "2010-01-07   -0.001002\n",
       "2010-01-08   -0.020060\n",
       "                ...   \n",
       "2020-12-23    0.003623\n",
       "2020-12-24    0.010830\n",
       "2020-12-28    0.008929\n",
       "2020-12-29    0.019469\n",
       "2020-12-30   -0.008681\n",
       "Name: Close, Length: 2708, dtype: float64"
      ]
     },
     "execution_count": 75,
     "metadata": {},
     "output_type": "execute_result"
    }
   ],
   "source": [
    "cel_pct_change"
   ]
  },
  {
   "cell_type": "code",
   "execution_count": 83,
   "metadata": {},
   "outputs": [
    {
     "data": {
      "text/plain": [
       "DatetimeIndex(['2010-01-04', '2010-01-05', '2010-01-06', '2010-01-07',\n",
       "               '2010-01-08', '2010-01-11', '2010-01-12', '2010-01-13',\n",
       "               '2010-01-14', '2010-01-15',\n",
       "               ...\n",
       "               '2020-12-16', '2020-12-17', '2020-12-18', '2020-12-21',\n",
       "               '2020-12-22', '2020-12-23', '2020-12-24', '2020-12-28',\n",
       "               '2020-12-29', '2020-12-30'],\n",
       "              dtype='datetime64[ns]', name='Date', length=2708, freq=None)"
      ]
     },
     "execution_count": 83,
     "metadata": {},
     "output_type": "execute_result"
    }
   ],
   "source": [
    "cel2.index"
   ]
  },
  {
   "cell_type": "markdown",
   "metadata": {},
   "source": [
    "# 통계량 보기"
   ]
  },
  {
   "cell_type": "markdown",
   "metadata": {},
   "source": [
    "### 첨도 \n",
    "- 첨도 (Kurtosis) : 분포의 꼬리부분의 길이와 중앙 부분의 뾰족함에 대한 정보를 제공하는 통계량\n",
    "- 첨도는 잘 정의된 통계량이 아니기 때문에 논란의 여지가 있는 통계량\n",
    "- 정규분포의 첨도는 0이다(정규분포는 3값이 나오지만 첨도를 0으로 만들기위해 3을뺴준다)\n",
    "- 첨도가 0보다 크면 정규분포보다 긴 꼬리를 갖고, 분포가 보다 중앙부분에 덜 집중되어있다 (뾰족하다)\n"
   ]
  },
  {
   "cell_type": "code",
   "execution_count": 86,
   "metadata": {},
   "outputs": [
    {
     "data": {
      "text/plain": [
       "21.592039185408908"
      ]
     },
     "execution_count": 86,
     "metadata": {},
     "output_type": "execute_result"
    }
   ],
   "source": [
    "cel_daily.kurt()"
   ]
  },
  {
   "cell_type": "code",
   "execution_count": 88,
   "metadata": {},
   "outputs": [
    {
     "data": {
      "image/png": "[encoded data removed]",
      "text/plain": [
       "<Figure size 1440x720 with 1 Axes>"
      ]
     },
     "metadata": {
      "needs_background": "light"
     },
     "output_type": "display_data"
    }
   ],
   "source": [
    "cel_daily.plot.hist(bins =300)\n",
    "plt.show()"
   ]
  },
  {
   "cell_type": "markdown",
   "metadata": {},
   "source": [
    "### 왜도\n",
    "- 분포의 비대칭 정도를 나타내는 통계\n",
    "- 분포가 완전 대칭인 경우에는 왜도가 0이다\n",
    "- 왼쪽으로 긴 꼬리를 가지면 음수\n",
    "- 오른쪽으로 긴꼬리를 가지면 양수\n",
    "- 비대칭 정도가 심할수록 왜도의 절대값이 증가한다"
   ]
  },
  {
   "cell_type": "code",
   "execution_count": 89,
   "metadata": {},
   "outputs": [
    {
     "data": {
      "text/plain": [
       "1.1829207137036113"
      ]
     },
     "execution_count": 89,
     "metadata": {},
     "output_type": "execute_result"
    }
   ],
   "source": [
    "cel_daily.skew()"
   ]
  },
  {
   "cell_type": "code",
   "execution_count": 92,
   "metadata": {},
   "outputs": [
    {
     "data": {
      "image/png": "[encoded data removed]",
      "text/plain": [
       "<Figure size 1440x720 with 1 Axes>"
      ]
     },
     "metadata": {
      "needs_background": "light"
     },
     "output_type": "display_data"
    }
   ],
   "source": [
    "cel_daily.plot.hist(bins = 300,)\n",
    "plt.show()"
   ]
  },
  {
   "cell_type": "code",
   "execution_count": null,
   "metadata": {},
   "outputs": [],
   "source": []
  }
 ],
 "metadata": {
  "kernelspec": {
   "display_name": "Python 3",
   "language": "python",
   "name": "python3"
  },
  "language_info": {
   "codemirror_mode": {
    "name": "ipython",
    "version": 3
   },
   "file_extension": ".py",
   "mimetype": "text/x-python",
   "name": "python",
   "nbconvert_exporter": "python",
   "pygments_lexer": "ipython3",
   "version": "3.7.6"
  }
 },
 "nbformat": 4,
 "nbformat_minor": 4
}
