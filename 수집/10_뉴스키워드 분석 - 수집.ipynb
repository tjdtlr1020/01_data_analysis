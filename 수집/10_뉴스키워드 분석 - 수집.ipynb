{
 "cells": [
  {
   "cell_type": "code",
   "execution_count": 1,
   "metadata": {},
   "outputs": [],
   "source": [
    "import pandas as pd\n",
    "import numpy as np\n",
    "import matplotlib.pyplot as plt\n",
    "import datetime\n",
    "import seaborn as sns\n",
    "import requests\n",
    "import json\n",
    "import re\n",
    "import time\n",
    "import os\n",
    "# 그래프 설정\n",
    "plt.rcParams['font.family'] = 'Malgun Gothic'\n",
    "# plt.rcParams['font.family'] = 'AppleGothic'\n",
    "plt.rcParams['font.size'] = 16\n",
    "plt.rcParams['figure.figsize'] = 20, 10\n",
    "plt.rcParams['axes.unicode_minus'] = False"
   ]
  },
  {
   "cell_type": "markdown",
   "metadata": {},
   "source": [
    "#### 데이터 수집"
   ]
  },
  {
   "cell_type": "code",
   "execution_count": 2,
   "metadata": {},
   "outputs": [],
   "source": [
    "client_id = 'KQ0oUAktmnsJ8UETjZWc'\n",
    "client_secret = 'h175EGHWg3'\n",
    "# 요청주소\n",
    "site  = 'https://openapi.naver.com/v1/search/blog.json'\n",
    "# 요청 파라미터\n",
    "params = {\n",
    "    'query': '손흥민',\n",
    "    'start':1,\n",
    "    'display':100,\n",
    "    'sort':'sim'\n",
    "}\n",
    "# 요청 헤더\n",
    "headers = {\n",
    "    'X-Naver-Client-Id':client_id,\n",
    "    'X-Naver-Client-Secret':client_secret\n",
    "}"
   ]
  },
  {
   "cell_type": "code",
   "execution_count": 3,
   "metadata": {},
   "outputs": [
    {
     "name": "stdout",
     "output_type": "stream",
     "text": [
      "1수집중\n",
      "101수집중\n",
      "201수집중\n",
      "301수집중\n",
      "401수집중\n",
      "501수집중\n",
      "601수집중\n",
      "701수집중\n",
      "801수집중\n",
      "901수집중\n"
     ]
    }
   ],
   "source": [
    "while True:\n",
    "    time.sleep(1)\n",
    "    # 데이터를 담을 딕셔너리선언\n",
    "    data_dict = {\n",
    "        'title':[],\n",
    "        'description':[]\n",
    "    }\n",
    "    print(f'{params[\"start\"]}수집중')\n",
    "    # 요청한다\n",
    "    res = requests.get(site, params=params,headers = headers)\n",
    "    # display(res.text)\n",
    "\n",
    "    # json객체 생성\n",
    "    json_root = json.loads(res.text)\n",
    "    # display(json_root)\n",
    "\n",
    "    # items를 추출\n",
    "    items = json_root['items']\n",
    "    # display(items)\n",
    "\n",
    "    # item 수만큼 반복한다\n",
    "    for item in items:\n",
    "        # title 추출\n",
    "        title = item['title']\n",
    "        # description추출\n",
    "        description = item['description']\n",
    "\n",
    "        data_dict['title'].append(title)\n",
    "        data_dict['description'].append(description)\n",
    "    # 수집한 데이터를 저장\n",
    "    df1 = pd.DataFrame(data_dict)\n",
    "    \n",
    "    if os.path.exists('son.csv') ==False:\n",
    "        df1.to_csv('son.csv',encoding = 'utf-8-sig',index = False)\n",
    "    else:\n",
    "        df1.to_csv('son.csv',encoding = 'utf-8-sig',index = False, mode = 'a',header = False)\n",
    "    # start값 추출\n",
    "    start = json_root['start']\n",
    "    # start에 100을 누적한다\n",
    "    start = start+100\n",
    "    \n",
    "    # 새롭게 구한 start가 1000보다 작으면 파라미터로 셋팅한다\n",
    "    if start <1000:\n",
    "        params['start'] = start\n",
    "    else:\n",
    "    # 그렇지 않으면 while중단\n",
    "        break"
   ]
  },
  {
   "cell_type": "code",
   "execution_count": null,
   "metadata": {},
   "outputs": [],
   "source": []
  }
 ],
 "metadata": {
  "kernelspec": {
   "display_name": "Python 3",
   "language": "python",
   "name": "python3"
  },
  "language_info": {
   "codemirror_mode": {
    "name": "ipython",
    "version": 3
   },
   "file_extension": ".py",
   "mimetype": "text/x-python",
   "name": "python",
   "nbconvert_exporter": "python",
   "pygments_lexer": "ipython3",
   "version": "3.7.6"
  }
 },
 "nbformat": 4,
 "nbformat_minor": 4
}
